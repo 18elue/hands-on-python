{
 "cells": [
  {
   "cell_type": "markdown",
   "source": [
    "# Debug Python"
   ],
   "metadata": {}
  },
  {
   "cell_type": "code",
   "execution_count": null,
   "source": [
    "# debug rest api\n",
    "r =requests.patch(f'https://{workspace_url}/api/2.0/permissions/clusters/{cluster_id}',\n",
    "            headers = {'Authorization': 'Bearer '+aad_token,\n",
    "                       'Content-Type': 'application/json' },\n",
    "            data = json.dumps(settings) )\n",
    "\n",
    "print(r.json()) # check response message\n"
   ],
   "outputs": [],
   "metadata": {}
  }
 ],
 "metadata": {
  "orig_nbformat": 4,
  "language_info": {
   "name": "python"
  }
 },
 "nbformat": 4,
 "nbformat_minor": 2
}