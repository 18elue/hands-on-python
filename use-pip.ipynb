{
 "cells": [
  {
   "cell_type": "markdown",
   "source": [
    "# Use PIP\n",
    "\n",
    "This notebook shows how to use pip to manage python libraries."
   ],
   "metadata": {}
  },
  {
   "cell_type": "markdown",
   "source": [
    "## Install Package"
   ],
   "metadata": {}
  },
  {
   "cell_type": "code",
   "execution_count": null,
   "source": [
    "%%bash\n",
    "# install packages\n",
    "pip install requests"
   ],
   "outputs": [],
   "metadata": {}
  },
  {
   "cell_type": "code",
   "execution_count": null,
   "source": [
    "%%bash\n",
    "# install specific versions\n",
    "pip install requests==2.18.4"
   ],
   "outputs": [],
   "metadata": {}
  },
  {
   "cell_type": "code",
   "execution_count": null,
   "source": [
    "%%bash\n",
    "# install with requirement file\n",
    "pip install -r src/requirements.txt"
   ],
   "outputs": [],
   "metadata": {}
  },
  {
   "cell_type": "code",
   "execution_count": null,
   "source": [
    "%%bash\n",
    "# install from local archives (code not tested)\n",
    "## If you have a directory containing archives of multiple packages,\n",
    "## you can tell pip to look for packages there and not to use the Python Package Index(PyPI) at all\n",
    "pip install requests-2.18.4.tar.gz\n",
    "pip install --no-index --find-links=/local/dir/ requests"
   ],
   "outputs": [],
   "metadata": {}
  },
  {
   "cell_type": "code",
   "execution_count": null,
   "source": [
    "%%bash\n",
    "# install from source (code not tested)\n",
    "## -e is short for --editable\n",
    "## install packages from source in development mode, meaning that changes to the source directory will immediately affect the installed package without needing to re-install\n",
    "## dependencies will be installed in the usual, non-editable mode.\n",
    "cd google-auth && pip install .\n",
    "cd google-auth && pip install -e . "
   ],
   "outputs": [],
   "metadata": {}
  },
  {
   "cell_type": "markdown",
   "source": [
    "## Update Package"
   ],
   "metadata": {}
  },
  {
   "cell_type": "code",
   "execution_count": null,
   "source": [
    "%%bash\n",
    "# upgrade package\n",
    "pip install --upgrade requests"
   ],
   "outputs": [],
   "metadata": {}
  },
  {
   "cell_type": "code",
   "execution_count": null,
   "source": [
    "%%bash\n",
    "# uninstall package\n",
    "pip uninstall -y requests"
   ],
   "outputs": [],
   "metadata": {}
  },
  {
   "cell_type": "markdown",
   "source": [
    "## Check Infos"
   ],
   "metadata": {}
  },
  {
   "cell_type": "code",
   "execution_count": null,
   "source": [
    "%%bash\n",
    "# 查看pip.conf文件路径\n",
    "pip config list -v"
   ],
   "outputs": [],
   "metadata": {}
  },
  {
   "cell_type": "code",
   "execution_count": null,
   "source": [
    "import sys\n",
    "print(sys.prefix) # python base folder\n",
    "\n",
    "import requests\n",
    "print(requests.__path__)"
   ],
   "outputs": [],
   "metadata": {}
  },
  {
   "cell_type": "code",
   "execution_count": null,
   "source": [
    "%%bash\n",
    "# export a list of all installed packages and their versions\n",
    "pip freeze"
   ],
   "outputs": [],
   "metadata": {}
  }
 ],
 "metadata": {
  "orig_nbformat": 4,
  "language_info": {
   "name": "python",
   "version": "3.7.3",
   "mimetype": "text/x-python",
   "codemirror_mode": {
    "name": "ipython",
    "version": 3
   },
   "pygments_lexer": "ipython3",
   "nbconvert_exporter": "python",
   "file_extension": ".py"
  },
  "kernelspec": {
   "name": "python3",
   "display_name": "Python 3.7.3 64-bit ('.venv': venv)"
  },
  "interpreter": {
   "hash": "538ce8a40f8363598bda107b0f36b5cd24dbff76d8f95017475842c52a4eadd2"
  }
 },
 "nbformat": 4,
 "nbformat_minor": 2
}